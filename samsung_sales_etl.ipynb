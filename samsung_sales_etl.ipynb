{
 "cells": [
  {
   "cell_type": "markdown",
   "id": "e0361cad",
   "metadata": {},
   "source": [
    "# 📊 Samsung Sales ETL Pipeline\n",
    "This notebook performs an ETL process on mock Samsung sales data using PySpark."
   ]
  },
  {
   "cell_type": "code",
   "execution_count": null,
   "id": "8689cd18",
   "metadata": {},
   "outputs": [],
   "source": [
    "\n",
    "from pyspark.sql import SparkSession\n",
    "from pyspark.sql.functions import col, sum as _sum, round as _round\n",
    "\n",
    "# Initialize Spark session\n",
    "spark = SparkSession.builder.appName(\"SamsungSalesETL\").getOrCreate()\n"
   ]
  },
  {
   "cell_type": "code",
   "execution_count": null,
   "id": "b17a6133",
   "metadata": {},
   "outputs": [],
   "source": [
    "\n",
    "# Load CSV data\n",
    "sales_df = spark.read.option(\"header\", True).option(\"inferSchema\", True).csv(\"sales_data.csv\")\n",
    "product_df = spark.read.option(\"header\", True).option(\"inferSchema\", True).csv(\"product_catalog.csv\")\n",
    "region_df = spark.read.option(\"header\", True).option(\"inferSchema\", True).csv(\"store_regions.csv\")\n",
    "\n",
    "sales_df.show(5)\n",
    "product_df.show()\n",
    "region_df.show()\n"
   ]
  },
  {
   "cell_type": "code",
   "execution_count": null,
   "id": "98ba7457",
   "metadata": {},
   "outputs": [],
   "source": [
    "\n",
    "# Join sales with product and region data\n",
    "sales_product_df = sales_df.join(product_df, on=\"model\", how=\"left\")\n",
    "full_df = sales_product_df.join(region_df, on=\"store_id\", how=\"left\")\n"
   ]
  },
  {
   "cell_type": "code",
   "execution_count": null,
   "id": "a1e79b2b",
   "metadata": {},
   "outputs": [],
   "source": [
    "\n",
    "# Add total revenue column\n",
    "full_df = full_df.withColumn(\"total_revenue\", _round(col(\"quantity\") * col(\"unit_price\"), 2))\n",
    "full_df.select(\"sale_id\", \"model\", \"quantity\", \"unit_price\", \"total_revenue\").show(5)\n"
   ]
  },
  {
   "cell_type": "code",
   "execution_count": null,
   "id": "f288947c",
   "metadata": {},
   "outputs": [],
   "source": [
    "\n",
    "# Group by model and country\n",
    "summary_df = full_df.groupBy(\"model\", \"country\").agg(\n",
    "    _sum(\"quantity\").alias(\"total_units_sold\"),\n",
    "    _round(_sum(\"total_revenue\"), 2).alias(\"total_revenue\")\n",
    ")\n",
    "summary_df.show()\n"
   ]
  },
  {
   "cell_type": "code",
   "execution_count": null,
   "id": "b7dd02c4",
   "metadata": {},
   "outputs": [],
   "source": [
    "\n",
    "# Write summary to Parquet\n",
    "summary_df.write.mode(\"overwrite\").parquet(\"data/processed/sales_summary.parquet\")\n"
   ]
  }
 ],
 "metadata": {},
 "nbformat": 4,
 "nbformat_minor": 5
}
